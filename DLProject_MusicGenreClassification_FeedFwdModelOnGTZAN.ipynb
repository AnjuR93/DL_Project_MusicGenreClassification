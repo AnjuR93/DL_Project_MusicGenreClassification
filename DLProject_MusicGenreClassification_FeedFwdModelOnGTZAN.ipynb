{
 "cells": [
  {
   "cell_type": "code",
   "execution_count": 110,
   "metadata": {},
   "outputs": [],
   "source": [
    "import librosa\n",
    "import utils\n",
    "import IPython.display as ipd\n",
    "import matplotlib.pyplot as plt\n",
    "import os\n",
    "import keras\n",
    "import time\n",
    "from PIL import Image\n",
    "import pathlib\n",
    "import csv\n",
    "import numpy as np\n",
    "import pandas as pd\n",
    "from sklearn import preprocessing\n",
    "from sklearn.preprocessing import LabelEncoder\n",
    "from sklearn.model_selection import train_test_split\n",
    "from sklearn.preprocessing import StandardScaler\n",
    "from keras import models\n",
    "from keras import layers\n",
    "from sklearn.metrics import confusion_matrix,accuracy_score,precision_score,recall_score,f1_score,classification_report\n",
    "import warnings\n",
    "warnings.filterwarnings('ignore')\n",
    "# from pandas.api.types import CategoricalDtype\n"
   ]
  },
  {
   "cell_type": "code",
   "execution_count": null,
   "metadata": {},
   "outputs": [],
   "source": [
    "# Extracting the spectrogram for each audio files and saving to an image folder\n",
    "\n",
    "cmap = plt.get_cmap('inferno')\n",
    "\n",
    "plt.figure(figsize=(10,10))\n",
    "genres = 'blues classical country disco hiphop jazz metal pop reggae rock'.split()\n",
    "for g in genres:\n",
    "    pathlib.Path(f'img_data/{g}').mkdir(parents=True, exist_ok=True)     \n",
    "    for filename in os.listdir(f'GTZAN_genres/{g}'):\n",
    "        songname = f'GTZAN_genres/{g}/{filename}'\n",
    "        y, sr = librosa.load(songname, mono=True, duration=5)\n",
    "        plt.specgram(y, NFFT=2048, Fs=2, Fc=0, noverlap=128, cmap=cmap, sides='default', mode='default', scale='dB');\n",
    "        plt.axis('off');\n",
    "        plt.savefig(f'img_data/{g}/{filename[:-3].replace(\".\", \"\")}.png')\n",
    "        plt.clf()"
   ]
  },
  {
   "cell_type": "markdown",
   "metadata": {},
   "source": [
    "# Extracting Features from Spectrogram"
   ]
  },
  {
   "cell_type": "code",
   "execution_count": 29,
   "metadata": {},
   "outputs": [],
   "source": [
    "header = 'filename chroma_stft rmse spectral_centroid spectral_bandwidth rolloff zero_crossing_rate'\n",
    "for i in range(1, 21):\n",
    "    header += f' mfcc{i}'\n",
    "header += ' label'\n",
    "header = header.split()"
   ]
  },
  {
   "cell_type": "code",
   "execution_count": 30,
   "metadata": {},
   "outputs": [],
   "source": [
    "file = open('data.csv', 'w', newline='')\n",
    "with file:\n",
    "    writer = csv.writer(file)\n",
    "    writer.writerow(header)\n",
    "genres = 'blues classical country disco hiphop jazz metal pop reggae rock'.split()\n",
    "for g in genres:\n",
    "    for filename in os.listdir(f'GTZAN_genres/{g}'):\n",
    "        songname = f'GTZAN_genres/{g}/{filename}'\n",
    "        y, sr = librosa.load(songname, mono=True, duration=30)\n",
    "        chroma_stft = librosa.feature.chroma_stft(y=y, sr=sr)\n",
    "        spec_cent = librosa.feature.spectral_centroid(y=y, sr=sr)\n",
    "        spec_bw = librosa.feature.spectral_bandwidth(y=y, sr=sr)\n",
    "        rolloff = librosa.feature.spectral_rolloff(y=y, sr=sr)\n",
    "        zcr = librosa.feature.zero_crossing_rate(y)\n",
    "        mfcc = librosa.feature.mfcc(y=y, sr=sr)\n",
    "        to_append = f'{filename} {np.mean(chroma_stft)} {np.mean(librosa.feature.rmse(y=y))} {np.mean(spec_cent)} {np.mean(spec_bw)} {np.mean(rolloff)} {np.mean(zcr)}'    \n",
    "        for e in mfcc:\n",
    "            to_append += f' {np.mean(e)}'\n",
    "        to_append += f' {g}'\n",
    "        file = open('data.csv', 'a', newline='')\n",
    "        with file:\n",
    "            writer = csv.writer(file)\n",
    "            writer.writerow(to_append.split())"
   ]
  },
  {
   "cell_type": "code",
   "execution_count": 86,
   "metadata": {},
   "outputs": [
    {
     "data": {
      "text/plain": [
       "1000"
      ]
     },
     "execution_count": 86,
     "metadata": {},
     "output_type": "execute_result"
    }
   ],
   "source": [
    "data = pd.read_csv('data.csv')\n",
    "len(data)"
   ]
  },
  {
   "cell_type": "code",
   "execution_count": 87,
   "metadata": {},
   "outputs": [
    {
     "name": "stdout",
     "output_type": "stream",
     "text": [
      "   chroma_stft      rmse  spectral_centroid  spectral_bandwidth      rolloff  \\\n",
      "0     0.349943  0.130225        1784.420446         2002.650192  3806.485316   \n",
      "1     0.340983  0.095918        1529.835316         2038.617579  3548.820207   \n",
      "2     0.363603  0.175573        1552.481958         1747.165985  3040.514948   \n",
      "3     0.404779  0.141191        1070.119953         1596.333948  2185.028454   \n",
      "4     0.308590  0.091563        1835.494603         1748.362448  3580.945013   \n",
      "\n",
      "   zero_crossing_rate       mfcc1       mfcc2      mfcc3      mfcc4  ...    \\\n",
      "0            0.083066 -113.596742  121.557302 -19.158825  42.351029  ...     \n",
      "1            0.056044 -207.556796  124.006717   8.930562  35.874684  ...     \n",
      "2            0.076301  -90.754394  140.459907 -29.109965  31.689014  ...     \n",
      "3            0.033309 -199.431144  150.099218   5.647594  26.871927  ...     \n",
      "4            0.101500 -160.266031  126.198800 -35.605448  22.153301  ...     \n",
      "\n",
      "     mfcc12    mfcc13    mfcc14    mfcc15    mfcc16    mfcc17    mfcc18  \\\n",
      "0  8.810668 -3.667367  5.751690 -5.162761  0.750947 -1.691937 -0.409954   \n",
      "1  5.376802 -2.239119  4.216963 -6.012273  0.936109 -0.716537  0.293875   \n",
      "2  5.789265 -8.905224 -1.083720 -9.218359  2.455805 -7.726901 -1.815724   \n",
      "3  6.087676 -2.476420 -1.073890 -2.874777  0.780976 -3.316932  0.637981   \n",
      "4 -2.806385 -6.934122 -7.558619 -9.173552 -4.512166 -5.453538 -0.924162   \n",
      "\n",
      "     mfcc19     mfcc20  label  \n",
      "0 -2.300208   1.219928  blues  \n",
      "1 -0.287431   0.531573  blues  \n",
      "2 -3.433434  -2.226821  blues  \n",
      "3 -0.619690  -3.408233  blues  \n",
      "4 -4.409333 -11.703781  blues  \n",
      "\n",
      "[5 rows x 27 columns]\n"
     ]
    }
   ],
   "source": [
    "# Dropping unneccesary columns\n",
    "data = data.drop(['filename'],axis=1)\n",
    "print(data.head())"
   ]
  },
  {
   "cell_type": "code",
   "execution_count": 89,
   "metadata": {},
   "outputs": [
    {
     "name": "stdout",
     "output_type": "stream",
     "text": [
      "1000\n"
     ]
    }
   ],
   "source": [
    "# Encoding the labels\n",
    "genre_list = data.iloc[:, -1]\n",
    "encoder =LabelEncoder()\n",
    "y = encoder.fit_transform(genre_list)\n",
    "print(len(y))"
   ]
  },
  {
   "cell_type": "code",
   "execution_count": 90,
   "metadata": {},
   "outputs": [],
   "source": [
    "# Scaling the feature column\n",
    "scaler = StandardScaler()\n",
    "X = scaler.fit_transform(np.array(data.iloc[:, :-1], dtype = float))"
   ]
  },
  {
   "cell_type": "code",
   "execution_count": 91,
   "metadata": {},
   "outputs": [],
   "source": [
    "# Splitting data into training and testing data\n",
    "X_train, X_test, y_train, y_test = train_test_split(X, y, test_size=0.2)\n",
    "class_true = y_test"
   ]
  },
  {
   "cell_type": "code",
   "execution_count": 92,
   "metadata": {},
   "outputs": [],
   "source": [
    "# x_val = X_train[:200]\n",
    "# partial_x_train = X_train[200:]\n",
    "\n",
    "# y_val = y_train[:200]\n",
    "# partial_y_train = y_train[200:]"
   ]
  },
  {
   "cell_type": "markdown",
   "metadata": {},
   "source": [
    "# Building the Network"
   ]
  },
  {
   "cell_type": "markdown",
   "metadata": {},
   "source": [
    "## Artificial Neural Network (ANN)"
   ]
  },
  {
   "cell_type": "code",
   "execution_count": 93,
   "metadata": {},
   "outputs": [],
   "source": [
    "ANNmodel1 = models.Sequential()\n",
    "ANNmodel1.add(layers.Dense(256, activation='relu', input_shape=(X_train.shape[1],)))\n",
    "\n",
    "ANNmodel1.add(layers.Dense(128, activation='relu'))\n",
    "\n",
    "ANNmodel1.add(layers.Dense(64, activation='relu'))\n",
    "\n",
    "ANNmodel1.add(layers.Dense(10, activation='softmax'))"
   ]
  },
  {
   "cell_type": "code",
   "execution_count": 94,
   "metadata": {},
   "outputs": [],
   "source": [
    "ANNmodel1.compile(optimizer='adam',\n",
    "              loss='sparse_categorical_crossentropy',\n",
    "              metrics=['accuracy'])"
   ]
  },
  {
   "cell_type": "code",
   "execution_count": 100,
   "metadata": {},
   "outputs": [],
   "source": [
    "# Function to get time taken for each epoch\n",
    "class TimeHistory(keras.callbacks.Callback):\n",
    "    def on_train_begin(self, logs={}):\n",
    "        self.times = []\n",
    "\n",
    "    def on_epoch_begin(self, batch, logs={}):\n",
    "        self.epoch_time_start = time.time()\n",
    "\n",
    "    def on_epoch_end(self, batch, logs={}):\n",
    "        self.times.append(time.time() - self.epoch_time_start)\n",
    "        \n",
    "time_callback = TimeHistory()\n",
    "\n"
   ]
  },
  {
   "cell_type": "code",
   "execution_count": 103,
   "metadata": {},
   "outputs": [
    {
     "name": "stdout",
     "output_type": "stream",
     "text": [
      "Epoch 1/50\n",
      "800/800 [==============================] - 2s 3ms/step - loss: 2.3564 - acc: 0.1488\n",
      "Epoch 2/50\n",
      "800/800 [==============================] - 0s 26us/step - loss: 2.1728 - acc: 0.2825\n",
      "Epoch 3/50\n",
      "800/800 [==============================] - 0s 19us/step - loss: 2.0317 - acc: 0.3088\n",
      "Epoch 4/50\n",
      "800/800 [==============================] - 0s 19us/step - loss: 1.9149 - acc: 0.3438\n",
      "Epoch 5/50\n",
      "800/800 [==============================] - 0s 26us/step - loss: 1.8145 - acc: 0.3663\n",
      "Epoch 6/50\n",
      "800/800 [==============================] - 0s 22us/step - loss: 1.7192 - acc: 0.3800\n",
      "Epoch 7/50\n",
      "800/800 [==============================] - 0s 19us/step - loss: 1.6268 - acc: 0.4050\n",
      "Epoch 8/50\n",
      "800/800 [==============================] - 0s 26us/step - loss: 1.5476 - acc: 0.4575\n",
      "Epoch 9/50\n",
      "800/800 [==============================] - 0s 20us/step - loss: 1.4737 - acc: 0.5012\n",
      "Epoch 10/50\n",
      "800/800 [==============================] - 0s 17us/step - loss: 1.4038 - acc: 0.5437\n",
      "Epoch 11/50\n",
      "800/800 [==============================] - 0s 20us/step - loss: 1.3375 - acc: 0.5500\n",
      "Epoch 12/50\n",
      "800/800 [==============================] - 0s 22us/step - loss: 1.2789 - acc: 0.5638\n",
      "Epoch 13/50\n",
      "800/800 [==============================] - 0s 20us/step - loss: 1.2225 - acc: 0.6013\n",
      "Epoch 14/50\n",
      "800/800 [==============================] - 0s 20us/step - loss: 1.1721 - acc: 0.6188\n",
      "Epoch 15/50\n",
      "800/800 [==============================] - 0s 19us/step - loss: 1.1263 - acc: 0.6425\n",
      "Epoch 16/50\n",
      "800/800 [==============================] - 0s 19us/step - loss: 1.0846 - acc: 0.6463\n",
      "Epoch 17/50\n",
      "800/800 [==============================] - 0s 24us/step - loss: 1.0480 - acc: 0.6612\n",
      "Epoch 18/50\n",
      "800/800 [==============================] - 0s 18us/step - loss: 1.0125 - acc: 0.6800\n",
      "Epoch 19/50\n",
      "800/800 [==============================] - 0s 20us/step - loss: 0.9779 - acc: 0.6800\n",
      "Epoch 20/50\n",
      "800/800 [==============================] - 0s 21us/step - loss: 0.9449 - acc: 0.7012\n",
      "Epoch 21/50\n",
      "800/800 [==============================] - 0s 19us/step - loss: 0.9150 - acc: 0.7063\n",
      "Epoch 22/50\n",
      "800/800 [==============================] - 0s 21us/step - loss: 0.8849 - acc: 0.7250\n",
      "Epoch 23/50\n",
      "800/800 [==============================] - 0s 20us/step - loss: 0.8575 - acc: 0.7313\n",
      "Epoch 24/50\n",
      "800/800 [==============================] - 0s 41us/step - loss: 0.8327 - acc: 0.7350\n",
      "Epoch 25/50\n",
      "800/800 [==============================] - 0s 24us/step - loss: 0.8071 - acc: 0.7500\n",
      "Epoch 26/50\n",
      "800/800 [==============================] - 0s 17us/step - loss: 0.7847 - acc: 0.7487\n",
      "Epoch 27/50\n",
      "800/800 [==============================] - 0s 21us/step - loss: 0.7617 - acc: 0.7613\n",
      "Epoch 28/50\n",
      "800/800 [==============================] - 0s 36us/step - loss: 0.7421 - acc: 0.7613\n",
      "Epoch 29/50\n",
      "800/800 [==============================] - 0s 21us/step - loss: 0.7208 - acc: 0.7738\n",
      "Epoch 30/50\n",
      "800/800 [==============================] - 0s 20us/step - loss: 0.7012 - acc: 0.7763\n",
      "Epoch 31/50\n",
      "800/800 [==============================] - 0s 24us/step - loss: 0.6821 - acc: 0.7813\n",
      "Epoch 32/50\n",
      "800/800 [==============================] - 0s 26us/step - loss: 0.6626 - acc: 0.7925\n",
      "Epoch 33/50\n",
      "800/800 [==============================] - 0s 20us/step - loss: 0.6463 - acc: 0.7975\n",
      "Epoch 34/50\n",
      "800/800 [==============================] - 0s 22us/step - loss: 0.6266 - acc: 0.7950\n",
      "Epoch 35/50\n",
      "800/800 [==============================] - 0s 40us/step - loss: 0.6119 - acc: 0.8000\n",
      "Epoch 36/50\n",
      "800/800 [==============================] - 0s 19us/step - loss: 0.5953 - acc: 0.8100\n",
      "Epoch 37/50\n",
      "800/800 [==============================] - 0s 20us/step - loss: 0.5763 - acc: 0.8225\n",
      "Epoch 38/50\n",
      "800/800 [==============================] - 0s 39us/step - loss: 0.5615 - acc: 0.8250\n",
      "Epoch 39/50\n",
      "800/800 [==============================] - 0s 24us/step - loss: 0.5456 - acc: 0.8300\n",
      "Epoch 40/50\n",
      "800/800 [==============================] - 0s 16us/step - loss: 0.5321 - acc: 0.8350\n",
      "Epoch 41/50\n",
      "800/800 [==============================] - 0s 21us/step - loss: 0.5165 - acc: 0.8412\n",
      "Epoch 42/50\n",
      "800/800 [==============================] - 0s 19us/step - loss: 0.5021 - acc: 0.8425\n",
      "Epoch 43/50\n",
      "800/800 [==============================] - 0s 21us/step - loss: 0.4895 - acc: 0.8525\n",
      "Epoch 44/50\n",
      "800/800 [==============================] - 0s 23us/step - loss: 0.4733 - acc: 0.8550\n",
      "Epoch 45/50\n",
      "800/800 [==============================] - 0s 34us/step - loss: 0.4607 - acc: 0.8613\n",
      "Epoch 46/50\n",
      "800/800 [==============================] - 0s 25us/step - loss: 0.4439 - acc: 0.8737\n",
      "Epoch 47/50\n",
      "800/800 [==============================] - 0s 16us/step - loss: 0.4341 - acc: 0.8763\n",
      "Epoch 48/50\n",
      "800/800 [==============================] - 0s 20us/step - loss: 0.4213 - acc: 0.8862\n",
      "Epoch 49/50\n",
      "800/800 [==============================] - ETA: 0s - loss: 0.4153 - acc: 0.884 - 0s 42us/step - loss: 0.4093 - acc: 0.8825\n",
      "Epoch 50/50\n",
      "800/800 [==============================] - 0s 18us/step - loss: 0.3997 - acc: 0.8838\n",
      "200/200 [==============================] - 0s 2ms/step\n"
     ]
    }
   ],
   "source": [
    "history = ANNmodel1.fit(\n",
    "          X_train,\n",
    "          y_train,\n",
    "#           partial_x_train,\n",
    "#           partial_y_train,\n",
    "          epochs=50,\n",
    "          batch_size=512,\n",
    "#           validation_data=(x_val, y_val)\n",
    "          callbacks=[time_callback]\n",
    "            )\n",
    "times = time_callback.times\n",
    "results = ANNmodel1.evaluate(X_test, y_test)"
   ]
  },
  {
   "cell_type": "code",
   "execution_count": 104,
   "metadata": {},
   "outputs": [
    {
     "data": {
      "image/png": "[encoded data removed]",
      "text/plain": [
       "<Figure size 432x288 with 1 Axes>"
      ]
     },
     "metadata": {
      "needs_background": "light"
     },
     "output_type": "display_data"
    }
   ],
   "source": [
    "# Epoch - Loss Plot\n",
    "plt.plot(history.history['loss'])\n",
    "plt.title('epoch-loss plot')\n",
    "plt.ylabel('loss')\n",
    "plt.xlabel('epoch')\n",
    "plt.show()"
   ]
  },
  {
   "cell_type": "code",
   "execution_count": 105,
   "metadata": {},
   "outputs": [
    {
     "data": {
      "text/plain": [
       "[1.0840416598320006, 0.64]"
      ]
     },
     "execution_count": 105,
     "metadata": {},
     "output_type": "execute_result"
    }
   ],
   "source": [
    "results"
   ]
  },
  {
   "cell_type": "code",
   "execution_count": 106,
   "metadata": {},
   "outputs": [
    {
     "name": "stdout",
     "output_type": "stream",
     "text": [
      "200\n",
      "Predicted Class Labels: [7 2 5 3 6 2 2 1 9 2 5 2 2 3 2 3 6 3 1 5 9 5 4 3 5 9 7 9 5 2 5 5 1 6 0 9 4\n",
      " 0 4 6 1 4 3 3 6 4 0 4 8 6 3 6 8 1 9 6 7 3 8 2 6 4 7 7 0 1 1 5 7 9 8 7 0 3\n",
      " 9 9 0 1 4 0 7 5 4 2 5 3 1 8 3 4 9 7 2 5 5 2 2 7 3 1 2 8 4 5 9 7 4 2 1 3 4\n",
      " 9 1 5 6 3 7 1 0 2 7 1 4 9 9 3 5 0 6 5 8 6 3 4 6 4 0 0 1 2 1 3 4 1 2 0 6 7\n",
      " 7 9 6 3 3 3 5 9 7 4 9 1 3 4 4 0 0 8 1 5 6 9 3 6 5 0 6 9 3 0 7 8 8 1 1 5 7\n",
      " 1 5 3 6 3 2 3 7 6 4 5 0 1 0 1]\n",
      "True Class Labels: [7 0 5 7 6 7 2 1 0 2 5 2 2 0 4 3 3 6 1 5 9 7 4 8 0 9 7 2 5 3 5 5 1 0 6 9 4\n",
      " 0 6 6 1 8 8 3 6 4 0 4 4 6 3 0 2 1 9 6 4 3 8 2 6 4 2 7 0 5 1 5 4 9 4 7 0 3\n",
      " 9 9 2 1 8 0 7 5 4 2 5 9 5 8 8 4 3 7 2 0 5 2 9 8 3 1 2 2 4 4 2 7 4 2 1 3 6\n",
      " 9 1 5 6 3 7 1 0 4 8 1 4 5 6 3 1 0 6 2 8 6 3 0 3 7 0 0 1 2 1 3 3 1 9 0 6 8\n",
      " 7 9 6 3 3 9 8 5 7 6 0 1 8 4 4 0 9 4 1 0 6 6 3 6 5 0 6 4 8 0 8 8 4 1 1 5 5\n",
      " 1 7 3 6 1 2 4 7 6 6 2 0 1 6 1]\n"
     ]
    }
   ],
   "source": [
    "#Predictions on Test Data - I am choosing ANNmodel1 from above after comparing performance\n",
    "\n",
    "predictions = ANNmodel1.predict(X_test)\n",
    "\n",
    "class_predictions = np.argmax(predictions, axis=-1)\n",
    "print(len(class_predictions))\n",
    "print('Predicted Class Labels:',class_predictions)\n",
    "print('True Class Labels:',class_true)"
   ]
  },
  {
   "cell_type": "code",
   "execution_count": 107,
   "metadata": {},
   "outputs": [
    {
     "name": "stdout",
     "output_type": "stream",
     "text": [
      "Confusion Matrix:\n",
      " [[14  0  1  1  1  3  2  0  0  2]\n",
      " [ 0 22  0  1  0  1  0  0  0  0]\n",
      " [ 1  0 12  0  0  2  0  1  2  2]\n",
      " [ 0  0  1 15  1  0  2  0  0  1]\n",
      " [ 0  0  2  1 12  1  0  2  4  1]\n",
      " [ 0  2  0  0  0 13  0  1  0  2]\n",
      " [ 2  0  0  1  4  0 16  0  0  2]\n",
      " [ 0  0  1  1  1  2  0 11  0  0]\n",
      " [ 0  0  0  5  2  1  0  4  4  0]\n",
      " [ 1  0  2  2  0  0  0  0  0  9]]\n"
     ]
    }
   ],
   "source": [
    "# 10-class confusion matrix\n",
    "print('Confusion Matrix:\\n',confusion_matrix(class_true, class_predictions))"
   ]
  },
  {
   "cell_type": "code",
   "execution_count": 108,
   "metadata": {},
   "outputs": [
    {
     "data": {
      "text/plain": [
       "{'0': [0.5833333333333334],\n",
       " '1': [0.9166666666666666],\n",
       " '2': [0.6],\n",
       " '3': [0.75],\n",
       " '4': [0.5217391304347826],\n",
       " '5': [0.7222222222222222],\n",
       " '6': [0.64],\n",
       " '7': [0.6875],\n",
       " '8': [0.25],\n",
       " '9': [0.6428571428571429]}"
      ]
     },
     "execution_count": 108,
     "metadata": {},
     "output_type": "execute_result"
    }
   ],
   "source": [
    "# classwise accuracy\n",
    "\n",
    "def per_class_accuracy(y_preds,y_true,class_labels):\n",
    "    return [np.mean([\n",
    "        (y_true[pred_idx] == np.round(y_pred)) for pred_idx, y_pred in enumerate(y_preds) \n",
    "      if y_true[pred_idx] == int(class_label)\n",
    "        ]) for class_label in class_labels]\n",
    "\n",
    "def update_val_history():\n",
    "    [val_history[class_label].append(np.mean( np.asarray(temp_hist).T[class_idx] )\n",
    "                             ) for class_idx, class_label in enumerate(class_labels)]\n",
    "\n",
    "class_labels = ['0','1','2','3', '4','5','6','7', '8','9']\n",
    "val_history = {class_label:[] for class_label in class_labels}\n",
    "\n",
    "temp_hist = per_class_accuracy(class_predictions,class_true,class_labels)\n",
    "update_val_history()\n",
    "val_history"
   ]
  },
  {
   "cell_type": "code",
   "execution_count": 111,
   "metadata": {},
   "outputs": [
    {
     "name": "stdout",
     "output_type": "stream",
     "text": [
      "              precision    recall  f1-score   support\n",
      "\n",
      "           0       0.78      0.58      0.67        24\n",
      "           1       0.92      0.92      0.92        24\n",
      "           2       0.63      0.60      0.62        20\n",
      "           3       0.56      0.75      0.64        20\n",
      "           4       0.57      0.52      0.55        23\n",
      "           5       0.57      0.72      0.63        18\n",
      "           6       0.80      0.64      0.71        25\n",
      "           7       0.58      0.69      0.63        16\n",
      "           8       0.40      0.25      0.31        16\n",
      "           9       0.47      0.64      0.55        14\n",
      "\n",
      "   micro avg       0.64      0.64      0.64       200\n",
      "   macro avg       0.63      0.63      0.62       200\n",
      "weighted avg       0.65      0.64      0.64       200\n",
      "\n"
     ]
    }
   ],
   "source": [
    "# classwise precision, recall and F-1 score\n",
    "print(classification_report(class_true, class_predictions))"
   ]
  }
 ],
 "metadata": {
  "kernelspec": {
   "display_name": "Python 3",
   "language": "python",
   "name": "python3"
  },
  "language_info": {
   "codemirror_mode": {
    "name": "ipython",
    "version": 3
   },
   "file_extension": ".py",
   "mimetype": "text/x-python",
   "name": "python",
   "nbconvert_exporter": "python",
   "pygments_lexer": "ipython3",
   "version": "3.7.1"
  }
 },
 "nbformat": 4,
 "nbformat_minor": 2
}
