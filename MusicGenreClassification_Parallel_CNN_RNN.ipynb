{
  "nbformat": 4,
  "nbformat_minor": 0,
  "metadata": {
    "colab": {
      "name": "Copy of Method2.ipynb",
      "provenance": [],
      "collapsed_sections": [
        "T7PRg945lZql",
        "aP0aSmDplH_9",
        "cwJ1TT0sk_0Z",
        "g1E7EGdZBm_V"
      ],
      "toc_visible": true,
      "machine_shape": "hm"
    },
    "kernelspec": {
      "name": "python3",
      "display_name": "Python 3"
    },
    "accelerator": "GPU"
  },
  "cells": [
    {
      "cell_type": "code",
      "metadata": {
        "id": "ZJ77IyfSyh1b",
        "colab_type": "code",
        "outputId": "fc331174-6e52-441e-d842-8049673d2400",
        "colab": {
          "base_uri": "https://localhost:8080/",
          "height": 123
        }
      },
      "source": [
        "from google.colab import drive\n",
        "drive.mount('/content/drive')"
      ],
      "execution_count": 0,
      "outputs": [
        {
          "output_type": "stream",
          "text": [
            "Go to this URL in a browser: https://accounts.google.com/o/oauth2/auth?client_id=947318989803-6bn6qk8qdgf4n4g3pfee6491hc0brc4i.apps.googleusercontent.com&redirect_uri=urn%3aietf%3awg%3aoauth%3a2.0%3aoob&response_type=code&scope=email%20https%3a%2f%2fwww.googleapis.com%2fauth%2fdocs.test%20https%3a%2f%2fwww.googleapis.com%2fauth%2fdrive%20https%3a%2f%2fwww.googleapis.com%2fauth%2fdrive.photos.readonly%20https%3a%2f%2fwww.googleapis.com%2fauth%2fpeopleapi.readonly\n",
            "\n",
            "Enter your authorization code:\n",
            "··········\n",
            "Mounted at /content/drive\n"
          ],
          "name": "stdout"
        }
      ]
    },
    {
      "cell_type": "code",
      "metadata": {
        "id": "4vA3agyny-dR",
        "colab_type": "code",
        "outputId": "dd313513-e911-49bb-ed22-3f334abb2a2b",
        "colab": {
          "base_uri": "https://localhost:8080/",
          "height": 34
        }
      },
      "source": [
        "cd /content/drive/My\\ Drive/DL_Project\n"
      ],
      "execution_count": 0,
      "outputs": [
        {
          "output_type": "stream",
          "text": [
            "/content/drive/My Drive/DL_Project\n"
          ],
          "name": "stdout"
        }
      ]
    },
    {
      "cell_type": "code",
      "metadata": {
        "id": "GhRffCvb80Bk",
        "colab_type": "code",
        "outputId": "ef0fd91a-0185-443e-a2a2-1831cdb81dda",
        "colab": {
          "base_uri": "https://localhost:8080/",
          "height": 98
        }
      },
      "source": [
        "# Importing necessary libraries\n",
        "import os\n",
        "import numpy as np\n",
        "import librosa\n",
        "import librosa.display\n",
        "import pandas as pd\n",
        "import matplotlib.pyplot as plt\n",
        "import numpy as np\n",
        "from os.path import isfile\n",
        "import keras\n",
        "from keras.models import Sequential, Model\n",
        "from keras.layers import Input, Dense, Bidirectional, LSTM, Dropout, Activation, GRU\n",
        "from keras.layers import Conv2D, concatenate, MaxPooling2D, Flatten, Embedding, Lambda\n",
        "from keras.callbacks import ModelCheckpoint, TensorBoard, ReduceLROnPlateau\n",
        "from keras import backend as K\n",
        "from keras.utils import np_utils\n",
        "from keras.optimizers import Adam, RMSprop\n",
        "from keras import regularizers\n",
        "from sklearn.metrics import classification_report, accuracy_score, confusion_matrix\n",
        "from keras.models import load_model\n",
        "import seaborn as sns\n",
        "%matplotlib inline"
      ],
      "execution_count": 0,
      "outputs": [
        {
          "output_type": "stream",
          "text": [
            "Using TensorFlow backend.\n"
          ],
          "name": "stderr"
        },
        {
          "output_type": "display_data",
          "data": {
            "text/html": [
              "<p style=\"color: red;\">\n",
              "The default version of TensorFlow in Colab will soon switch to TensorFlow 2.x.<br>\n",
              "We recommend you <a href=\"https://www.tensorflow.org/guide/migrate\" target=\"_blank\">upgrade</a> now \n",
              "or ensure your notebook will continue to use TensorFlow 1.x via the <code>%tensorflow_version 1.x</code> magic:\n",
              "<a href=\"https://colab.research.google.com/notebooks/tensorflow_version.ipynb\" target=\"_blank\">more info</a>.</p>\n"
            ],
            "text/plain": [
              "<IPython.core.display.HTML object>"
            ]
          },
          "metadata": {
            "tags": []
          }
        }
      ]
    },
    {
      "cell_type": "markdown",
      "metadata": {
        "id": "T7PRg945lZql",
        "colab_type": "text"
      },
      "source": [
        "## Loading the data, Data-preprocessing and Spectrogram generation"
      ]
    },
    {
      "cell_type": "code",
      "metadata": {
        "id": "c5oAtN2O843L",
        "colab_type": "code",
        "colab": {}
      },
      "source": [
        "#Get list of track IDs of the mp3 audio files in the directory\n",
        "def get_trackid_from_directory(audio_dir):\n",
        "    tids = []\n",
        "    for _, dirnames, files in os.walk(audio_dir):\n",
        "        if dirnames == []:\n",
        "            tids.extend(int(file[:-4]) for file in files)\n",
        "    return tids\n",
        "\n",
        "# Get the path of the mp3 file\n",
        "def get_audio_path(audio_dir, track_id):\n",
        "    tid_str = '{:06d}'.format(track_id)\n",
        "    return os.path.join(audio_dir, tid_str[:3], tid_str + '.mp3')"
      ],
      "execution_count": 0,
      "outputs": []
    },
    {
      "cell_type": "code",
      "metadata": {
        "id": "wzjcwADJ9Nvm",
        "colab_type": "code",
        "outputId": "e0055205-af76-416d-e4ae-109d917ddf91",
        "colab": {
          "base_uri": "https://localhost:8080/",
          "height": 34
        }
      },
      "source": [
        "AUDIO_DIR = 'fma_small'\n",
        "trackids = get_trackid_from_directory(AUDIO_DIR)\n",
        "print(len(trackids))"
      ],
      "execution_count": 0,
      "outputs": [
        {
          "output_type": "stream",
          "text": [
            "8000\n"
          ],
          "name": "stdout"
        }
      ]
    },
    {
      "cell_type": "code",
      "metadata": {
        "id": "HpILdv6M9Rqk",
        "colab_type": "code",
        "colab": {}
      },
      "source": [
        "# Creating Spectrogram\n",
        "def create_spectogram(track_id):\n",
        "    filename = get_audio_path(AUDIO_DIR, track_id)\n",
        "    y, sr = librosa.load(filename)\n",
        "    spect = librosa.feature.melspectrogram(y=y, sr=sr,n_fft=2048, hop_length=1024)\n",
        "    spect = librosa.power_to_db(spect, ref=np.max)\n",
        "    return spect.T"
      ],
      "execution_count": 0,
      "outputs": []
    },
    {
      "cell_type": "code",
      "metadata": {
        "id": "oTZhj02s9T4Y",
        "colab_type": "code",
        "outputId": "e2bf9743-5a85-45a0-d9dd-a5f70f56c07d",
        "colab": {
          "base_uri": "https://localhost:8080/",
          "height": 268
        }
      },
      "source": [
        "filepath = 'fma_metadata/tracks.csv'\n",
        "tracks = pd.read_csv(filepath, index_col=0, header=[0, 1])\n",
        "columns = [('set', 'split'),\n",
        "('set', 'subset'),('track', 'genre_top')]\n",
        "\n",
        "#selecting the small subset from fma metadata file\n",
        "df_all = tracks[columns]\n",
        "df_all = df_all[df_all[('set', 'subset')] == 'small']\n",
        "\n",
        "df_all['track_id'] = df_all.index\n",
        "df_all.head()"
      ],
      "execution_count": 0,
      "outputs": [
        {
          "output_type": "execute_result",
          "data": {
            "text/html": [
              "<div>\n",
              "<style scoped>\n",
              "    .dataframe tbody tr th:only-of-type {\n",
              "        vertical-align: middle;\n",
              "    }\n",
              "\n",
              "    .dataframe tbody tr th {\n",
              "        vertical-align: top;\n",
              "    }\n",
              "\n",
              "    .dataframe thead tr th {\n",
              "        text-align: left;\n",
              "    }\n",
              "\n",
              "    .dataframe thead tr:last-of-type th {\n",
              "        text-align: right;\n",
              "    }\n",
              "</style>\n",
              "<table border=\"1\" class=\"dataframe\">\n",
              "  <thead>\n",
              "    <tr>\n",
              "      <th></th>\n",
              "      <th colspan=\"2\" halign=\"left\">set</th>\n",
              "      <th>track</th>\n",
              "      <th>track_id</th>\n",
              "    </tr>\n",
              "    <tr>\n",
              "      <th></th>\n",
              "      <th>split</th>\n",
              "      <th>subset</th>\n",
              "      <th>genre_top</th>\n",
              "      <th></th>\n",
              "    </tr>\n",
              "    <tr>\n",
              "      <th>track_id</th>\n",
              "      <th></th>\n",
              "      <th></th>\n",
              "      <th></th>\n",
              "      <th></th>\n",
              "    </tr>\n",
              "  </thead>\n",
              "  <tbody>\n",
              "    <tr>\n",
              "      <th>2</th>\n",
              "      <td>training</td>\n",
              "      <td>small</td>\n",
              "      <td>Hip-Hop</td>\n",
              "      <td>2</td>\n",
              "    </tr>\n",
              "    <tr>\n",
              "      <th>5</th>\n",
              "      <td>training</td>\n",
              "      <td>small</td>\n",
              "      <td>Hip-Hop</td>\n",
              "      <td>5</td>\n",
              "    </tr>\n",
              "    <tr>\n",
              "      <th>10</th>\n",
              "      <td>training</td>\n",
              "      <td>small</td>\n",
              "      <td>Pop</td>\n",
              "      <td>10</td>\n",
              "    </tr>\n",
              "    <tr>\n",
              "      <th>140</th>\n",
              "      <td>training</td>\n",
              "      <td>small</td>\n",
              "      <td>Folk</td>\n",
              "      <td>140</td>\n",
              "    </tr>\n",
              "    <tr>\n",
              "      <th>141</th>\n",
              "      <td>training</td>\n",
              "      <td>small</td>\n",
              "      <td>Folk</td>\n",
              "      <td>141</td>\n",
              "    </tr>\n",
              "  </tbody>\n",
              "</table>\n",
              "</div>"
            ],
            "text/plain": [
              "               set            track track_id\n",
              "             split subset genre_top         \n",
              "track_id                                    \n",
              "2         training  small   Hip-Hop        2\n",
              "5         training  small   Hip-Hop        5\n",
              "10        training  small       Pop       10\n",
              "140       training  small      Folk      140\n",
              "141       training  small      Folk      141"
            ]
          },
          "metadata": {
            "tags": []
          },
          "execution_count": 10
        }
      ]
    },
    {
      "cell_type": "code",
      "metadata": {
        "id": "xhhQ1vgv9bjF",
        "colab_type": "code",
        "colab": {}
      },
      "source": [
        "# Creating a dictionary of genres to use as class labels\n",
        "dict_genres = {'Electronic':1, 'Experimental':2, 'Folk':3, 'Hip-Hop':4, \n",
        "               'Instrumental':5,'International':6, 'Pop' :7, 'Rock': 8  }"
      ],
      "execution_count": 0,
      "outputs": []
    },
    {
      "cell_type": "code",
      "metadata": {
        "id": "4PErDZ3H9eGE",
        "colab_type": "code",
        "colab": {}
      },
      "source": [
        "# Function to create array of spectrogram images and appending the class labels with each spectrogram\n",
        "def create_array(df):\n",
        "    genres = []\n",
        "    X_spect = np.empty((0, 640, 128))\n",
        "    count = 0\n",
        "    #Code skips records in case of errors\n",
        "    for index, row in df.iterrows():\n",
        "        try:\n",
        "            count += 1\n",
        "            track_id = int(row['track_id'])\n",
        "            genre = str(row[('track', 'genre_top')])\n",
        "            spect = create_spectogram(track_id)\n",
        "\n",
        "            # Normalize for small shape differences\n",
        "            spect = spect[:640, :]\n",
        "            X_spect = np.append(X_spect, [spect], axis=0)\n",
        "            genres.append(dict_genres[genre])\n",
        "            if count % 100 == 0:\n",
        "                print(\"Currently processing: \", count)\n",
        "        except:\n",
        "            print(\"Couldn't process: \", count)\n",
        "            continue\n",
        "    y_arr = np.array(genres)\n",
        "    return X_spect, y_arr"
      ],
      "execution_count": 0,
      "outputs": []
    },
    {
      "cell_type": "markdown",
      "metadata": {
        "id": "aP0aSmDplH_9",
        "colab_type": "text"
      },
      "source": [
        "### Creating train, validation and test subsets"
      ]
    },
    {
      "cell_type": "code",
      "metadata": {
        "id": "OG5ENgo69inW",
        "colab_type": "code",
        "outputId": "7a10694d-b62a-4c9e-b9df-2003f3b5a313",
        "colab": {
          "base_uri": "https://localhost:8080/",
          "height": 34
        }
      },
      "source": [
        "df_train = df_all[df_all[('set', 'split')]=='training']\n",
        "df_valid = df_all[df_all[('set', 'split')]=='validation']\n",
        "df_test = df_all[df_all[('set', 'split')]=='test']\n",
        "\n",
        "print(df_train.shape, df_valid.shape, df_test.shape)"
      ],
      "execution_count": 0,
      "outputs": [
        {
          "output_type": "stream",
          "text": [
            "(6400, 4) (800, 4) (800, 4)\n"
          ],
          "name": "stdout"
        }
      ]
    },
    {
      "cell_type": "code",
      "metadata": {
        "id": "5ksjqmFX9lfx",
        "colab_type": "code",
        "outputId": "adbbb137-4ef9-4c3d-a3fd-3b44f66c3edb",
        "colab": {
          "base_uri": "https://localhost:8080/",
          "height": 190
        }
      },
      "source": [
        "# Testing subset\n",
        "X_test, y_test = create_array(df_test)\n",
        "print(X_test.shape, y_test.shape)\n",
        "print(y_test[:23])\n",
        "np.savez('test_arr', X_test, y_test)"
      ],
      "execution_count": 0,
      "outputs": [
        {
          "output_type": "stream",
          "text": [
            "Currently processing:  100\n",
            "Currently processing:  200\n",
            "Currently processing:  300\n",
            "Currently processing:  400\n",
            "Currently processing:  500\n",
            "Currently processing:  600\n",
            "Currently processing:  700\n",
            "Currently processing:  800\n",
            "(800, 640, 128) (800,)\n",
            "[8 6 6 6 6 6 6 3 3 2 2 2 2 2 2 8 8 2 2 2 2 2 2]\n"
          ],
          "name": "stdout"
        }
      ]
    },
    {
      "cell_type": "code",
      "metadata": {
        "id": "Qk14nhQquAGL",
        "colab_type": "code",
        "outputId": "6bbdb166-129d-42b2-c84b-412e37e41c37",
        "colab": {
          "base_uri": "https://localhost:8080/",
          "height": 155
        }
      },
      "source": [
        "# Validation suset\n",
        "X_valid, y_valid = create_array(df_valid)\n",
        "np.savez('valid_arr', X_valid, y_valid)"
      ],
      "execution_count": 0,
      "outputs": [
        {
          "output_type": "stream",
          "text": [
            "Currently processing:  100\n",
            "Currently processing:  200\n",
            "Currently processing:  300\n",
            "Currently processing:  400\n",
            "Currently processing:  500\n",
            "Currently processing:  600\n",
            "Currently processing:  700\n",
            "Currently processing:  800\n"
          ],
          "name": "stdout"
        }
      ]
    },
    {
      "cell_type": "code",
      "metadata": {
        "id": "JejxXqfQjnV_",
        "colab_type": "code",
        "colab": {}
      },
      "source": [
        "# Training Subset\n",
        "# Train data split into 4 chunks to do the slow pre-processing in phases\n",
        "def splitDataFrameIntoSmaller(df, chunkSize = 1600): \n",
        "    listOfDf = list()\n",
        "    numberChunks = len(df) // chunkSize + 1\n",
        "    for i in range(numberChunks):\n",
        "        listOfDf.append(df[i*chunkSize:(i+1)*chunkSize])\n",
        "    return listOfDf"
      ],
      "execution_count": 0,
      "outputs": []
    },
    {
      "cell_type": "code",
      "metadata": {
        "id": "pBzEdKjfjrkx",
        "colab_type": "code",
        "outputId": "7b6fd3e7-feef-4ea2-f519-dc37defc6948",
        "colab": {
          "base_uri": "https://localhost:8080/",
          "height": 34
        }
      },
      "source": [
        "listDf = splitDataFrameIntoSmaller(df_train)\n",
        "df1_train = listDf[0]\n",
        "df2_train = listDf[1]\n",
        "df3_train = listDf[2]\n",
        "df4_train = listDf[3]\n",
        "print(df1_train.shape, df2_train.shape, df3_train.shape, df4_train.shape)"
      ],
      "execution_count": 0,
      "outputs": [
        {
          "output_type": "stream",
          "text": [
            "(1600, 4) (1600, 4) (1600, 4) (1600, 4)\n"
          ],
          "name": "stdout"
        }
      ]
    },
    {
      "cell_type": "code",
      "metadata": {
        "id": "9gITPgwyjuPj",
        "colab_type": "code",
        "outputId": "5800b20f-fc01-4074-bfee-2a9d3b847006",
        "colab": {
          "base_uri": "https://localhost:8080/",
          "height": 294
        }
      },
      "source": [
        "X_train1, y_train1 = create_array(df1_train)\n",
        "np.savez('train1_arr', X_train1, y_train1)"
      ],
      "execution_count": 0,
      "outputs": [
        {
          "output_type": "stream",
          "text": [
            "Currently processing:  100\n",
            "Currently processing:  200\n",
            "Currently processing:  300\n",
            "Currently processing:  400\n",
            "Currently processing:  500\n",
            "Currently processing:  600\n",
            "Currently processing:  700\n",
            "Currently processing:  800\n",
            "Currently processing:  900\n",
            "Currently processing:  1000\n",
            "Currently processing:  1100\n",
            "Currently processing:  1200\n",
            "Currently processing:  1300\n",
            "Currently processing:  1400\n",
            "Currently processing:  1500\n",
            "Currently processing:  1600\n"
          ],
          "name": "stdout"
        }
      ]
    },
    {
      "cell_type": "code",
      "metadata": {
        "id": "ra4KLCeg1Gqg",
        "colab_type": "code",
        "outputId": "371b642f-8625-4ccd-cd78-0a77a409114c",
        "colab": {
          "base_uri": "https://localhost:8080/",
          "height": 294
        }
      },
      "source": [
        "X_train2, y_train2 = create_array(df2_train)\n",
        "np.savez('train2_arr', X_train2, y_train2)"
      ],
      "execution_count": 0,
      "outputs": [
        {
          "output_type": "stream",
          "text": [
            "Currently processing:  100\n",
            "Currently processing:  200\n",
            "Currently processing:  300\n",
            "Currently processing:  400\n",
            "Currently processing:  500\n",
            "Currently processing:  600\n",
            "Currently processing:  700\n",
            "Currently processing:  800\n",
            "Currently processing:  900\n",
            "Currently processing:  1000\n",
            "Currently processing:  1100\n",
            "Currently processing:  1200\n",
            "Currently processing:  1300\n",
            "Currently processing:  1400\n",
            "Currently processing:  1500\n",
            "Currently processing:  1600\n"
          ],
          "name": "stdout"
        }
      ]
    },
    {
      "cell_type": "code",
      "metadata": {
        "id": "SqlhR3lIJHqH",
        "colab_type": "code",
        "outputId": "f680723f-13bf-417c-d2e7-78f241c91883",
        "colab": {
          "base_uri": "https://localhost:8080/",
          "height": 398
        }
      },
      "source": [
        "\n",
        "X_train3, y_train3 = create_array(df3_train)\n",
        "print(X_train3.shape, y_train3.shape)\n",
        "np.savez('train3_arr', X_train3, y_train3)"
      ],
      "execution_count": 0,
      "outputs": [
        {
          "output_type": "stream",
          "text": [
            "Currently processing:  100\n",
            "Currently processing:  200\n",
            "Couldn't process:  296\n",
            "Couldn't process:  297\n",
            "Couldn't process:  298\n",
            "Currently processing:  300\n",
            "Couldn't process:  331\n",
            "Currently processing:  400\n",
            "Currently processing:  500\n",
            "Currently processing:  600\n",
            "Couldn't process:  698\n",
            "Currently processing:  700\n",
            "Currently processing:  800\n",
            "Currently processing:  900\n",
            "Currently processing:  1000\n",
            "Currently processing:  1100\n",
            "Currently processing:  1200\n",
            "Currently processing:  1300\n",
            "Currently processing:  1400\n",
            "Currently processing:  1500\n",
            "Currently processing:  1600\n",
            "(1595, 640, 128) (1595,)\n"
          ],
          "name": "stdout"
        }
      ]
    },
    {
      "cell_type": "code",
      "metadata": {
        "id": "K6RYXW14d6Fd",
        "colab_type": "code",
        "outputId": "3dacf3fa-0cbe-488a-d415-92b4ff7daa99",
        "colab": {
          "base_uri": "https://localhost:8080/",
          "height": 329
        }
      },
      "source": [
        "X_train4, y_train4 = create_array(df4_train)\n",
        "print(X_train4.shape, y_train4.shape)\n",
        "np.savez('train4_arr', X_train4, y_train4)"
      ],
      "execution_count": 0,
      "outputs": [
        {
          "output_type": "stream",
          "text": [
            "Currently processing:  100\n",
            "Currently processing:  200\n",
            "Currently processing:  300\n",
            "Currently processing:  400\n",
            "Currently processing:  500\n",
            "Currently processing:  600\n",
            "Currently processing:  700\n",
            "Currently processing:  800\n",
            "Couldn't process:  812\n",
            "Currently processing:  900\n",
            "Currently processing:  1000\n",
            "Currently processing:  1100\n",
            "Currently processing:  1200\n",
            "Currently processing:  1300\n",
            "Currently processing:  1400\n",
            "Currently processing:  1500\n",
            "Currently processing:  1600\n",
            "(1599, 640, 128) (1599,)\n"
          ],
          "name": "stdout"
        }
      ]
    },
    {
      "cell_type": "markdown",
      "metadata": {
        "id": "cwJ1TT0sk_0Z",
        "colab_type": "text"
      },
      "source": [
        "### Concatenate and Shuffle the Training and Validation data"
      ]
    },
    {
      "cell_type": "code",
      "metadata": {
        "id": "-SMo-HBpp-QU",
        "colab_type": "code",
        "outputId": "3b11ffe2-d8b5-47d4-97af-171cf732bfc1",
        "colab": {
          "base_uri": "https://localhost:8080/",
          "height": 51
        }
      },
      "source": [
        "npzfile = np.load('train1_arr.npz')\n",
        "print(npzfile.files)\n",
        "X_train1 = npzfile['arr_0']\n",
        "y_train1 = npzfile['arr_1']\n",
        "print(X_train1.shape, y_train1.shape)"
      ],
      "execution_count": 0,
      "outputs": [
        {
          "output_type": "stream",
          "text": [
            "['arr_0', 'arr_1']\n",
            "(1600, 640, 128) (1600,)\n"
          ],
          "name": "stdout"
        }
      ]
    },
    {
      "cell_type": "code",
      "metadata": {
        "id": "jcnuX4iSqGwE",
        "colab_type": "code",
        "outputId": "56cf4409-9a58-4fd0-f11b-b591e8cbfcb8",
        "colab": {
          "base_uri": "https://localhost:8080/",
          "height": 51
        }
      },
      "source": [
        "npzfile = np.load('train2_arr.npz')\n",
        "print(npzfile.files)\n",
        "X_train2 = npzfile['arr_0']\n",
        "y_train2 = npzfile['arr_1']\n",
        "print(X_train2.shape, y_train2.shape)"
      ],
      "execution_count": 0,
      "outputs": [
        {
          "output_type": "stream",
          "text": [
            "['arr_0', 'arr_1']\n",
            "(1600, 640, 128) (1600,)\n"
          ],
          "name": "stdout"
        }
      ]
    },
    {
      "cell_type": "code",
      "metadata": {
        "id": "TJWa7-adqLIc",
        "colab_type": "code",
        "outputId": "f6b52853-5a38-442b-d7b8-ed8ff455df5a",
        "colab": {
          "base_uri": "https://localhost:8080/",
          "height": 51
        }
      },
      "source": [
        "npzfile = np.load('train3_arr.npz')\n",
        "print(npzfile.files)\n",
        "X_train3 = npzfile['arr_0']\n",
        "y_train3 = npzfile['arr_1']\n",
        "print(X_train3.shape, y_train3.shape)"
      ],
      "execution_count": 0,
      "outputs": [
        {
          "output_type": "stream",
          "text": [
            "['arr_0', 'arr_1']\n",
            "(1595, 640, 128) (1595,)\n"
          ],
          "name": "stdout"
        }
      ]
    },
    {
      "cell_type": "code",
      "metadata": {
        "id": "M4EErlWvqNwW",
        "colab_type": "code",
        "outputId": "0d42a59d-030a-4889-dd07-4985f33b3a64",
        "colab": {
          "base_uri": "https://localhost:8080/",
          "height": 51
        }
      },
      "source": [
        "npzfile = np.load('train4_arr.npz')\n",
        "print(npzfile.files)\n",
        "X_train4 = npzfile['arr_0']\n",
        "y_train4 = npzfile['arr_1']\n",
        "print(X_train4.shape, y_train4.shape)"
      ],
      "execution_count": 0,
      "outputs": [
        {
          "output_type": "stream",
          "text": [
            "['arr_0', 'arr_1']\n",
            "(1599, 640, 128) (1599,)\n"
          ],
          "name": "stdout"
        }
      ]
    },
    {
      "cell_type": "code",
      "metadata": {
        "id": "LFZbM4hvqVBo",
        "colab_type": "code",
        "outputId": "ab373425-7f1b-49dc-cfef-1a0ab6039bc5",
        "colab": {
          "base_uri": "https://localhost:8080/",
          "height": 51
        }
      },
      "source": [
        "npzfile = np.load('valid_arr.npz')\n",
        "print(npzfile.files)\n",
        "X_valid = npzfile['arr_0']\n",
        "y_valid = npzfile['arr_1']\n",
        "print(X_valid.shape, y_valid.shape)"
      ],
      "execution_count": 0,
      "outputs": [
        {
          "output_type": "stream",
          "text": [
            "['arr_0', 'arr_1']\n",
            "(800, 640, 128) (800,)\n"
          ],
          "name": "stdout"
        }
      ]
    },
    {
      "cell_type": "code",
      "metadata": {
        "id": "NCtp-g4BqcfA",
        "colab_type": "code",
        "outputId": "e7a73a79-d859-41ab-ffea-7bc4c55fb384",
        "colab": {
          "base_uri": "https://localhost:8080/",
          "height": 34
        }
      },
      "source": [
        "# Concatenate train data\n",
        "X_train = np.concatenate((X_train1, X_train2, X_train3, X_train4), axis = 0)\n",
        "y_train = np.concatenate((y_train1, y_train2, y_train3, y_train4), axis = 0)\n",
        "print(X_train.shape, y_train.shape)"
      ],
      "execution_count": 0,
      "outputs": [
        {
          "output_type": "stream",
          "text": [
            "(6394, 640, 128) (6394,)\n"
          ],
          "name": "stdout"
        }
      ]
    },
    {
      "cell_type": "code",
      "metadata": {
        "id": "JPGU85DXqgOe",
        "colab_type": "code",
        "outputId": "8c6d4ccf-f199-4674-e47c-d8eed878c993",
        "colab": {
          "base_uri": "https://localhost:8080/",
          "height": 51
        }
      },
      "source": [
        "# Convert y data to scale 0-7\n",
        "print(np.amin(X_train), np.amax(X_train), np.mean(X_train))\n",
        "y_train = y_train -1\n",
        "y_valid = y_valid -1\n",
        "print(np.amin(y_train), np.amax(y_train), np.mean(y_train))"
      ],
      "execution_count": 0,
      "outputs": [
        {
          "output_type": "stream",
          "text": [
            "-80.0 0.0 -44.08432967642086\n",
            "0 7 3.500625586487332\n"
          ],
          "name": "stdout"
        }
      ]
    },
    {
      "cell_type": "code",
      "metadata": {
        "id": "Ys7Zouq6qsqe",
        "colab_type": "code",
        "outputId": "5d46b73b-7467-4e64-ddaa-df9ea0b06771",
        "colab": {
          "base_uri": "https://localhost:8080/",
          "height": 34
        }
      },
      "source": [
        "# Convert the scale of training data\n",
        "X_train_raw = librosa.core.db_to_power(X_train, ref=1.0)\n",
        "print(np.amin(X_train_raw), np.amax(X_train_raw), np.mean(X_train_raw))"
      ],
      "execution_count": 0,
      "outputs": [
        {
          "output_type": "stream",
          "text": [
            "1e-08 1.0 0.004296015605854223\n"
          ],
          "name": "stdout"
        }
      ]
    },
    {
      "cell_type": "code",
      "metadata": {
        "id": "Mf4XNInBxDKx",
        "colab_type": "code",
        "outputId": "14c9b750-196a-4ef5-9a13-bb6490541228",
        "colab": {
          "base_uri": "https://localhost:8080/",
          "height": 34
        }
      },
      "source": [
        "X_train_log = np.log(X_train_raw)\n",
        "print(np.amin(X_train_log), np.amax(X_train_log), np.mean(X_train_log))"
      ],
      "execution_count": 0,
      "outputs": [
        {
          "output_type": "stream",
          "text": [
            "-18.420680743952367 0.0 -10.150792034756023\n"
          ],
          "name": "stdout"
        }
      ]
    },
    {
      "cell_type": "code",
      "metadata": {
        "id": "b6k8hVxJxO7n",
        "colab_type": "code",
        "colab": {}
      },
      "source": [
        "X_valid_raw = librosa.core.db_to_power(X_valid, ref=1.0)\n",
        "X_valid_log = np.log(X_valid_raw)"
      ],
      "execution_count": 0,
      "outputs": []
    },
    {
      "cell_type": "code",
      "metadata": {
        "id": "GTPqGXHCxYCw",
        "colab_type": "code",
        "colab": {}
      },
      "source": [
        "def unison_shuffled_copies(a, b):\n",
        "    assert len(a) == len(b)\n",
        "    p = np.random.permutation(len(a))\n",
        "    return a[p], b[p]\n",
        "\n",
        "X_train, y_train = unison_shuffled_copies(X_train_log, y_train)\n",
        "# X_valid, y_valid = unison_shuffled_copies(X_valid_log, y_valid)"
      ],
      "execution_count": 0,
      "outputs": []
    },
    {
      "cell_type": "code",
      "metadata": {
        "id": "E3qwjai_xaQm",
        "colab_type": "code",
        "outputId": "138c90f5-d1cd-415d-9702-dcb69798e0e8",
        "colab": {
          "base_uri": "https://localhost:8080/",
          "height": 34
        }
      },
      "source": [
        "print(\"Shapes are: \", X_train.shape, X_valid.shape, y_train.shape, y_valid.shape)"
      ],
      "execution_count": 0,
      "outputs": [
        {
          "output_type": "stream",
          "text": [
            "Shapes are:  (6394, 640, 128) (800, 640, 128) (6394,) (800,)\n"
          ],
          "name": "stdout"
        }
      ]
    },
    {
      "cell_type": "code",
      "metadata": {
        "id": "HELMDqEzplwY",
        "colab_type": "code",
        "colab": {}
      },
      "source": [
        "y_train=to_categorize(y_train)\n",
        "y_valid=to_categorize(y_valid)"
      ],
      "execution_count": 0,
      "outputs": []
    },
    {
      "cell_type": "code",
      "metadata": {
        "id": "VqfI1b3VxjD3",
        "colab_type": "code",
        "colab": {}
      },
      "source": [
        "np.savez('shuffled_train', X_train, y_train)\n",
        "np.savez('shuffled_valid', X_valid, y_valid)"
      ],
      "execution_count": 0,
      "outputs": []
    },
    {
      "cell_type": "markdown",
      "metadata": {
        "id": "g1E7EGdZBm_V",
        "colab_type": "text"
      },
      "source": [
        "## Parallel CNN - RNN Model"
      ]
    },
    {
      "cell_type": "code",
      "metadata": {
        "id": "zbs9rw2QBuDE",
        "colab_type": "code",
        "colab": {}
      },
      "source": [
        "# kernel size : (3,1)\n",
        "BATCH_SIZE = 64\n",
        "EPOCH_COUNT = 50\n",
        "num_classes = 8\n",
        "\n",
        "def conv_recurrent_model_build(model_input):\n",
        "    print('Building model...')\n",
        "    layer = model_input\n",
        "    \n",
        "    # Convolutional blocks - 5 convolutional and max pooling layers\n",
        "    conv_1 = Conv2D(filters = 16, kernel_size = (3,1), strides=1,\n",
        "                      padding= 'valid', activation='relu', name='conv_1')(layer)\n",
        "    pool_1 = MaxPooling2D(max_pool_size_1)(conv_1)\n",
        "\n",
        "    conv_2 = Conv2D(filters = 32, kernel_size = (3,1), strides=1,\n",
        "                      padding= 'valid', activation='relu', name='conv_2')(pool_1)\n",
        "    pool_2 = MaxPooling2D(max_pool_size_1)(conv_2)\n",
        "\n",
        "    conv_3 = Conv2D(filters = 64, kernel_size = (3,1), strides=1,\n",
        "                      padding= 'valid', activation='relu', name='conv_3')(pool_2)\n",
        "    pool_3 = MaxPooling2D(max_pool_size_1)(conv_3)\n",
        "    \n",
        "    conv_4 = Conv2D(filters = 64, kernel_size = (3,1), strides=1,\n",
        "                      padding= 'valid', activation='relu', name='conv_4')(pool_3)\n",
        "    pool_4 = MaxPooling2D(max_pool_size_2)(conv_4)\n",
        "    \n",
        "    conv_5 = Conv2D(filters = 64, kernel_size = (3,1), strides=1,\n",
        "                      padding= 'valid', activation='relu', name='conv_5')(pool_4)\n",
        "    pool_5 = MaxPooling2D(max_pool_size_2)(conv_5)\n",
        "\n",
        "    # flattened to shape \n",
        "    flatten1 = Flatten()(pool_5) # output (None,256)\n",
        "\n",
        "    # Recurrent Block- 1 pooling layer and a bidirectional GRU\n",
        "    pool_lstm1 = MaxPooling2D(max_pool_size_3, name = 'pool_lstm')(layer)\n",
        "    squeezed = Lambda(lambda x: K.squeeze(x, axis= -1))(pool_lstm1)\n",
        "    lstm = Bidirectional(GRU(64))(squeezed) # output size (None,128)\n",
        "    \n",
        "    # Concatenate the output from CNN and RNN\n",
        "    concat = concatenate([flatten1, lstm], axis=-1, name ='concat') # output (None,384)\n",
        "    # Softmax Output\n",
        "    output = Dense(num_classes, activation = 'softmax', name='preds')(concat)\n",
        "    model_output = output\n",
        "    model = Model(model_input, model_output)\n",
        "    opt = RMSprop(lr=0.0005)  # Optimizer\n",
        "    model.compile(\n",
        "            loss='categorical_crossentropy',\n",
        "            optimizer=opt,\n",
        "            metrics=['accuracy']\n",
        "        )\n",
        "    \n",
        "    print(model.summary())\n",
        "    return model"
      ],
      "execution_count": 0,
      "outputs": []
    },
    {
      "cell_type": "code",
      "metadata": {
        "id": "SMVVKAdwB4ou",
        "colab_type": "code",
        "colab": {}
      },
      "source": [
        "def train_model(x_train, y_train, x_val, y_val):   \n",
        "    n_frequency = 128\n",
        "    n_frames = 640\n",
        "\n",
        "    x_train = np.expand_dims(x_train, axis = -1)\n",
        "    x_val = np.expand_dims(x_val, axis = -1)\n",
        "    \n",
        "    input_shape = (n_frames, n_frequency, 1)\n",
        "    model_input = Input(input_shape, name='input')\n",
        "    \n",
        "    model = conv_recurrent_model_build(model_input)\n",
        "    \n",
        "    checkpoint_callback = ModelCheckpoint('weights.best.h5', monitor='val_acc', verbose=1,\n",
        "                                          save_best_only=True, mode='max')\n",
        "    \n",
        "    reducelr_callback = ReduceLROnPlateau(\n",
        "                monitor='val_acc', factor=0.5, patience=10, min_delta=0.01,\n",
        "                verbose=1\n",
        "            )\n",
        "    callbacks_list = [checkpoint_callback, reducelr_callback]\n",
        "\n",
        "    # Fit the model and get training history.\n",
        "    print('Training...')\n",
        "    history = model.fit(x_train, y_train, batch_size=BATCH_SIZE, epochs=EPOCH_COUNT,\n",
        "                        validation_data=(x_val, y_val), verbose=1, callbacks=callbacks_list)\n",
        "\n",
        "    return model, history"
      ],
      "execution_count": 0,
      "outputs": []
    },
    {
      "cell_type": "code",
      "metadata": {
        "id": "-3viV5PiCEQ8",
        "colab_type": "code",
        "colab": {}
      },
      "source": [
        "def show_summary_stats(history):\n",
        "  \n",
        "    print(history.history.keys())\n",
        "\n",
        "    # Summarize history for accuracy\n",
        "    plt.plot(history.history['acc'])\n",
        "    plt.plot(history.history['val_acc'])\n",
        "    plt.title('accuracy - epoch plot')\n",
        "    plt.ylabel('accuracy')\n",
        "    plt.xlabel('epoch')\n",
        "    plt.legend(['train', 'validation'], loc='upper left')\n",
        "    plt.show()\n",
        "\n",
        "    # Summarize history for loss\n",
        "    plt.plot(history.history['loss'])\n",
        "    plt.plot(history.history['val_loss'])\n",
        "    plt.title('loss - epoch plot')\n",
        "    plt.ylabel('loss')\n",
        "    plt.xlabel('epoch')\n",
        "    plt.legend(['train', 'validation'], loc='upper left')\n",
        "    plt.show()"
      ],
      "execution_count": 0,
      "outputs": []
    },
    {
      "cell_type": "code",
      "metadata": {
        "id": "154nL0P1CHYm",
        "colab_type": "code",
        "outputId": "adbb0268-762a-4ad7-b39e-729f1e430b2b",
        "colab": {
          "base_uri": "https://localhost:8080/",
          "height": 1000
        }
      },
      "source": [
        "model, history  = train_model(X_train, y_train, X_valid, y_valid)"
      ],
      "execution_count": 0,
      "outputs": [
        {
          "output_type": "stream",
          "text": [
            "WARNING:tensorflow:From /usr/local/lib/python3.6/dist-packages/keras/backend/tensorflow_backend.py:541: The name tf.placeholder is deprecated. Please use tf.compat.v1.placeholder instead.\n",
            "\n",
            "Building model...\n",
            "WARNING:tensorflow:From /usr/local/lib/python3.6/dist-packages/keras/backend/tensorflow_backend.py:4432: The name tf.random_uniform is deprecated. Please use tf.random.uniform instead.\n",
            "\n",
            "WARNING:tensorflow:From /usr/local/lib/python3.6/dist-packages/keras/backend/tensorflow_backend.py:66: The name tf.get_default_graph is deprecated. Please use tf.compat.v1.get_default_graph instead.\n",
            "\n",
            "WARNING:tensorflow:From /usr/local/lib/python3.6/dist-packages/keras/backend/tensorflow_backend.py:4267: The name tf.nn.max_pool is deprecated. Please use tf.nn.max_pool2d instead.\n",
            "\n",
            "WARNING:tensorflow:From /usr/local/lib/python3.6/dist-packages/keras/optimizers.py:793: The name tf.train.Optimizer is deprecated. Please use tf.compat.v1.train.Optimizer instead.\n",
            "\n",
            "WARNING:tensorflow:From /usr/local/lib/python3.6/dist-packages/keras/backend/tensorflow_backend.py:3576: The name tf.log is deprecated. Please use tf.math.log instead.\n",
            "\n",
            "Model: \"model_1\"\n",
            "__________________________________________________________________________________________________\n",
            "Layer (type)                    Output Shape         Param #     Connected to                     \n",
            "==================================================================================================\n",
            "input (InputLayer)              (None, 640, 128, 1)  0                                            \n",
            "__________________________________________________________________________________________________\n",
            "conv_1 (Conv2D)                 (None, 638, 128, 16) 64          input[0][0]                      \n",
            "__________________________________________________________________________________________________\n",
            "max_pooling2d_1 (MaxPooling2D)  (None, 319, 64, 16)  0           conv_1[0][0]                     \n",
            "__________________________________________________________________________________________________\n",
            "conv_2 (Conv2D)                 (None, 317, 64, 32)  1568        max_pooling2d_1[0][0]            \n",
            "__________________________________________________________________________________________________\n",
            "max_pooling2d_2 (MaxPooling2D)  (None, 158, 32, 32)  0           conv_2[0][0]                     \n",
            "__________________________________________________________________________________________________\n",
            "conv_3 (Conv2D)                 (None, 156, 32, 64)  6208        max_pooling2d_2[0][0]            \n",
            "__________________________________________________________________________________________________\n",
            "max_pooling2d_3 (MaxPooling2D)  (None, 78, 16, 64)   0           conv_3[0][0]                     \n",
            "__________________________________________________________________________________________________\n",
            "conv_4 (Conv2D)                 (None, 76, 16, 64)   12352       max_pooling2d_3[0][0]            \n",
            "__________________________________________________________________________________________________\n",
            "max_pooling2d_4 (MaxPooling2D)  (None, 19, 4, 64)    0           conv_4[0][0]                     \n",
            "__________________________________________________________________________________________________\n",
            "conv_5 (Conv2D)                 (None, 17, 4, 64)    12352       max_pooling2d_4[0][0]            \n",
            "__________________________________________________________________________________________________\n",
            "pool_lstm (MaxPooling2D)        (None, 160, 64, 1)   0           input[0][0]                      \n",
            "__________________________________________________________________________________________________\n",
            "max_pooling2d_5 (MaxPooling2D)  (None, 4, 1, 64)     0           conv_5[0][0]                     \n",
            "__________________________________________________________________________________________________\n",
            "lambda_1 (Lambda)               (None, 160, 64)      0           pool_lstm[0][0]                  \n",
            "__________________________________________________________________________________________________\n",
            "flatten_1 (Flatten)             (None, 256)          0           max_pooling2d_5[0][0]            \n",
            "__________________________________________________________________________________________________\n",
            "bidirectional_1 (Bidirectional) (None, 128)          49536       lambda_1[0][0]                   \n",
            "__________________________________________________________________________________________________\n",
            "concat (Concatenate)            (None, 384)          0           flatten_1[0][0]                  \n",
            "                                                                 bidirectional_1[0][0]            \n",
            "__________________________________________________________________________________________________\n",
            "preds (Dense)                   (None, 8)            3080        concat[0][0]                     \n",
            "==================================================================================================\n",
            "Total params: 85,160\n",
            "Trainable params: 85,160\n",
            "Non-trainable params: 0\n",
            "__________________________________________________________________________________________________\n",
            "None\n",
            "Training...\n",
            "WARNING:tensorflow:From /usr/local/lib/python3.6/dist-packages/tensorflow_core/python/ops/math_grad.py:1424: where (from tensorflow.python.ops.array_ops) is deprecated and will be removed in a future version.\n",
            "Instructions for updating:\n",
            "Use tf.where in 2.0, which has the same broadcast rule as np.where\n",
            "WARNING:tensorflow:From /usr/local/lib/python3.6/dist-packages/keras/backend/tensorflow_backend.py:1033: The name tf.assign_add is deprecated. Please use tf.compat.v1.assign_add instead.\n",
            "\n",
            "WARNING:tensorflow:From /usr/local/lib/python3.6/dist-packages/keras/backend/tensorflow_backend.py:1020: The name tf.assign is deprecated. Please use tf.compat.v1.assign instead.\n",
            "\n",
            "WARNING:tensorflow:From /usr/local/lib/python3.6/dist-packages/keras/backend/tensorflow_backend.py:3005: The name tf.Session is deprecated. Please use tf.compat.v1.Session instead.\n",
            "\n",
            "Train on 6394 samples, validate on 800 samples\n",
            "Epoch 1/50\n",
            "WARNING:tensorflow:From /usr/local/lib/python3.6/dist-packages/keras/backend/tensorflow_backend.py:190: The name tf.get_default_session is deprecated. Please use tf.compat.v1.get_default_session instead.\n",
            "\n",
            "WARNING:tensorflow:From /usr/local/lib/python3.6/dist-packages/keras/backend/tensorflow_backend.py:197: The name tf.ConfigProto is deprecated. Please use tf.compat.v1.ConfigProto instead.\n",
            "\n",
            "WARNING:tensorflow:From /usr/local/lib/python3.6/dist-packages/keras/backend/tensorflow_backend.py:207: The name tf.global_variables is deprecated. Please use tf.compat.v1.global_variables instead.\n",
            "\n",
            "WARNING:tensorflow:From /usr/local/lib/python3.6/dist-packages/keras/backend/tensorflow_backend.py:216: The name tf.is_variable_initialized is deprecated. Please use tf.compat.v1.is_variable_initialized instead.\n",
            "\n",
            "WARNING:tensorflow:From /usr/local/lib/python3.6/dist-packages/keras/backend/tensorflow_backend.py:223: The name tf.variables_initializer is deprecated. Please use tf.compat.v1.variables_initializer instead.\n",
            "\n",
            "6394/6394 [==============================] - 47s 7ms/step - loss: 1.9371 - acc: 0.2574 - val_loss: 1.8179 - val_acc: 0.2938\n",
            "\n",
            "Epoch 00001: val_acc improved from -inf to 0.29375, saving model to weights.best.h5\n",
            "Epoch 2/50\n",
            "6394/6394 [==============================] - 38s 6ms/step - loss: 1.7695 - acc: 0.3419 - val_loss: 1.6659 - val_acc: 0.4037\n",
            "\n",
            "Epoch 00002: val_acc improved from 0.29375 to 0.40375, saving model to weights.best.h5\n",
            "Epoch 3/50\n",
            "6394/6394 [==============================] - 38s 6ms/step - loss: 1.6870 - acc: 0.3869 - val_loss: 1.6710 - val_acc: 0.3613\n",
            "\n",
            "Epoch 00003: val_acc did not improve from 0.40375\n",
            "Epoch 4/50\n",
            "6394/6394 [==============================] - 37s 6ms/step - loss: 1.6384 - acc: 0.3993 - val_loss: 1.7516 - val_acc: 0.2975\n",
            "\n",
            "Epoch 00004: val_acc did not improve from 0.40375\n",
            "Epoch 5/50\n",
            "6394/6394 [==============================] - 37s 6ms/step - loss: 1.6040 - acc: 0.4206 - val_loss: 1.6269 - val_acc: 0.4113\n",
            "\n",
            "Epoch 00005: val_acc improved from 0.40375 to 0.41125, saving model to weights.best.h5\n",
            "Epoch 6/50\n",
            "6394/6394 [==============================] - 37s 6ms/step - loss: 1.5750 - acc: 0.4281 - val_loss: 1.5455 - val_acc: 0.4525\n",
            "\n",
            "Epoch 00006: val_acc improved from 0.41125 to 0.45250, saving model to weights.best.h5\n",
            "Epoch 7/50\n",
            "6394/6394 [==============================] - 37s 6ms/step - loss: 1.5524 - acc: 0.4365 - val_loss: 1.6219 - val_acc: 0.3675\n",
            "\n",
            "Epoch 00007: val_acc did not improve from 0.45250\n",
            "Epoch 8/50\n",
            "6394/6394 [==============================] - 37s 6ms/step - loss: 1.5293 - acc: 0.4476 - val_loss: 1.5375 - val_acc: 0.4175\n",
            "\n",
            "Epoch 00008: val_acc did not improve from 0.45250\n",
            "Epoch 9/50\n",
            "6394/6394 [==============================] - 37s 6ms/step - loss: 1.5044 - acc: 0.4582 - val_loss: 1.5065 - val_acc: 0.4575\n",
            "\n",
            "Epoch 00009: val_acc improved from 0.45250 to 0.45750, saving model to weights.best.h5\n",
            "Epoch 10/50\n",
            "6394/6394 [==============================] - 37s 6ms/step - loss: 1.4795 - acc: 0.4711 - val_loss: 1.5068 - val_acc: 0.4475\n",
            "\n",
            "Epoch 00010: val_acc did not improve from 0.45750\n",
            "Epoch 11/50\n",
            "6394/6394 [==============================] - 37s 6ms/step - loss: 1.4599 - acc: 0.4830 - val_loss: 1.5096 - val_acc: 0.4425\n",
            "\n",
            "Epoch 00011: val_acc did not improve from 0.45750\n",
            "Epoch 12/50\n",
            "6394/6394 [==============================] - 37s 6ms/step - loss: 1.4484 - acc: 0.4811 - val_loss: 1.4853 - val_acc: 0.4662\n",
            "\n",
            "Epoch 00012: val_acc improved from 0.45750 to 0.46625, saving model to weights.best.h5\n",
            "Epoch 13/50\n",
            "6394/6394 [==============================] - 36s 6ms/step - loss: 1.4213 - acc: 0.4994 - val_loss: 1.4656 - val_acc: 0.4863\n",
            "\n",
            "Epoch 00013: val_acc improved from 0.46625 to 0.48625, saving model to weights.best.h5\n",
            "Epoch 14/50\n",
            "6394/6394 [==============================] - 37s 6ms/step - loss: 1.4069 - acc: 0.5038 - val_loss: 1.5362 - val_acc: 0.4300\n",
            "\n",
            "Epoch 00014: val_acc did not improve from 0.48625\n",
            "Epoch 15/50\n",
            "6394/6394 [==============================] - 36s 6ms/step - loss: 1.3850 - acc: 0.5119 - val_loss: 1.4845 - val_acc: 0.4487\n",
            "\n",
            "Epoch 00015: val_acc did not improve from 0.48625\n",
            "Epoch 16/50\n",
            "6394/6394 [==============================] - 36s 6ms/step - loss: 1.3784 - acc: 0.5127 - val_loss: 1.4799 - val_acc: 0.5012\n",
            "\n",
            "Epoch 00016: val_acc improved from 0.48625 to 0.50125, saving model to weights.best.h5\n",
            "Epoch 17/50\n",
            "6394/6394 [==============================] - 36s 6ms/step - loss: 1.3538 - acc: 0.5213 - val_loss: 1.4549 - val_acc: 0.4888\n",
            "\n",
            "Epoch 00017: val_acc did not improve from 0.50125\n",
            "Epoch 18/50\n",
            "6394/6394 [==============================] - 36s 6ms/step - loss: 1.3257 - acc: 0.5377 - val_loss: 1.5380 - val_acc: 0.4475\n",
            "\n",
            "Epoch 00018: val_acc did not improve from 0.50125\n",
            "Epoch 19/50\n",
            "6394/6394 [==============================] - 36s 6ms/step - loss: 1.3196 - acc: 0.5413 - val_loss: 1.5163 - val_acc: 0.4825\n",
            "\n",
            "Epoch 00019: val_acc did not improve from 0.50125\n",
            "Epoch 20/50\n",
            "6394/6394 [==============================] - 36s 6ms/step - loss: 1.3187 - acc: 0.5358 - val_loss: 1.4827 - val_acc: 0.5000\n",
            "\n",
            "Epoch 00020: val_acc did not improve from 0.50125\n",
            "Epoch 21/50\n",
            "6394/6394 [==============================] - 36s 6ms/step - loss: 1.2896 - acc: 0.5521 - val_loss: 1.4843 - val_acc: 0.4850\n",
            "\n",
            "Epoch 00021: val_acc did not improve from 0.50125\n",
            "Epoch 22/50\n",
            "6394/6394 [==============================] - 37s 6ms/step - loss: 1.2782 - acc: 0.5508 - val_loss: 1.5140 - val_acc: 0.4375\n",
            "\n",
            "Epoch 00022: val_acc did not improve from 0.50125\n",
            "Epoch 23/50\n",
            "6394/6394 [==============================] - 37s 6ms/step - loss: 1.2790 - acc: 0.5546 - val_loss: 1.5173 - val_acc: 0.4487\n",
            "\n",
            "Epoch 00023: val_acc did not improve from 0.50125\n",
            "Epoch 24/50\n",
            "6394/6394 [==============================] - 36s 6ms/step - loss: 1.2526 - acc: 0.5629 - val_loss: 1.5382 - val_acc: 0.4613\n",
            "\n",
            "Epoch 00024: val_acc did not improve from 0.50125\n",
            "Epoch 25/50\n",
            "6394/6394 [==============================] - 36s 6ms/step - loss: 1.2439 - acc: 0.5572 - val_loss: 1.4634 - val_acc: 0.5112\n",
            "\n",
            "Epoch 00025: val_acc improved from 0.50125 to 0.51125, saving model to weights.best.h5\n",
            "Epoch 26/50\n",
            "6394/6394 [==============================] - 37s 6ms/step - loss: 1.2311 - acc: 0.5743 - val_loss: 1.4238 - val_acc: 0.5038\n",
            "\n",
            "Epoch 00026: val_acc did not improve from 0.51125\n",
            "\n",
            "Epoch 00026: ReduceLROnPlateau reducing learning rate to 0.0002500000118743628.\n",
            "Epoch 27/50\n",
            "6394/6394 [==============================] - 37s 6ms/step - loss: 1.1315 - acc: 0.6107 - val_loss: 1.4127 - val_acc: 0.5138\n",
            "\n",
            "Epoch 00027: val_acc improved from 0.51125 to 0.51375, saving model to weights.best.h5\n",
            "Epoch 28/50\n",
            "6394/6394 [==============================] - 38s 6ms/step - loss: 1.1214 - acc: 0.6204 - val_loss: 1.5055 - val_acc: 0.4850\n",
            "\n",
            "Epoch 00028: val_acc did not improve from 0.51375\n",
            "Epoch 29/50\n",
            "6394/6394 [==============================] - 38s 6ms/step - loss: 1.1101 - acc: 0.6160 - val_loss: 1.5209 - val_acc: 0.4900\n",
            "\n",
            "Epoch 00029: val_acc did not improve from 0.51375\n",
            "Epoch 30/50\n",
            "6394/6394 [==============================] - 38s 6ms/step - loss: 1.1041 - acc: 0.6215 - val_loss: 1.4605 - val_acc: 0.5038\n",
            "\n",
            "Epoch 00030: val_acc did not improve from 0.51375\n",
            "Epoch 31/50\n",
            "6394/6394 [==============================] - 37s 6ms/step - loss: 1.0879 - acc: 0.6298 - val_loss: 1.4746 - val_acc: 0.4838\n",
            "\n",
            "Epoch 00031: val_acc did not improve from 0.51375\n",
            "Epoch 32/50\n",
            "6394/6394 [==============================] - 38s 6ms/step - loss: 1.0815 - acc: 0.6273 - val_loss: 1.4456 - val_acc: 0.5075\n",
            "\n",
            "Epoch 00032: val_acc did not improve from 0.51375\n",
            "Epoch 33/50\n",
            "6394/6394 [==============================] - 37s 6ms/step - loss: 1.0677 - acc: 0.6345 - val_loss: 1.5342 - val_acc: 0.4788\n",
            "\n",
            "Epoch 00033: val_acc did not improve from 0.51375\n",
            "Epoch 34/50\n",
            "6394/6394 [==============================] - 37s 6ms/step - loss: 1.0569 - acc: 0.6412 - val_loss: 1.5358 - val_acc: 0.4913\n",
            "\n",
            "Epoch 00034: val_acc did not improve from 0.51375\n",
            "Epoch 35/50\n",
            "6394/6394 [==============================] - 36s 6ms/step - loss: 1.0477 - acc: 0.6458 - val_loss: 1.4658 - val_acc: 0.5062\n",
            "\n",
            "Epoch 00035: val_acc did not improve from 0.51375\n",
            "Epoch 36/50\n",
            "6394/6394 [==============================] - 37s 6ms/step - loss: 1.0390 - acc: 0.6429 - val_loss: 1.4730 - val_acc: 0.5150\n",
            "\n",
            "Epoch 00036: val_acc improved from 0.51375 to 0.51500, saving model to weights.best.h5\n",
            "Epoch 37/50\n",
            "6394/6394 [==============================] - 36s 6ms/step - loss: 1.0334 - acc: 0.6411 - val_loss: 1.5631 - val_acc: 0.4675\n",
            "\n",
            "Epoch 00037: val_acc did not improve from 0.51500\n",
            "\n",
            "Epoch 00037: ReduceLROnPlateau reducing learning rate to 0.0001250000059371814.\n",
            "Epoch 38/50\n",
            "6394/6394 [==============================] - 36s 6ms/step - loss: 0.9818 - acc: 0.6705 - val_loss: 1.4492 - val_acc: 0.5150\n",
            "\n",
            "Epoch 00038: val_acc did not improve from 0.51500\n",
            "Epoch 39/50\n",
            "6394/6394 [==============================] - 36s 6ms/step - loss: 0.9755 - acc: 0.6730 - val_loss: 1.4372 - val_acc: 0.4900\n",
            "\n",
            "Epoch 00039: val_acc did not improve from 0.51500\n",
            "Epoch 40/50\n",
            "6394/6394 [==============================] - 36s 6ms/step - loss: 0.9675 - acc: 0.6799 - val_loss: 1.4621 - val_acc: 0.4963\n",
            "\n",
            "Epoch 00040: val_acc did not improve from 0.51500\n",
            "Epoch 41/50\n",
            "6394/6394 [==============================] - 36s 6ms/step - loss: 0.9588 - acc: 0.6791 - val_loss: 1.4401 - val_acc: 0.5050\n",
            "\n",
            "Epoch 00041: val_acc did not improve from 0.51500\n",
            "Epoch 42/50\n",
            "6394/6394 [==============================] - 36s 6ms/step - loss: 0.9518 - acc: 0.6852 - val_loss: 1.4651 - val_acc: 0.4963\n",
            "\n",
            "Epoch 00042: val_acc did not improve from 0.51500\n",
            "Epoch 43/50\n",
            "6394/6394 [==============================] - 36s 6ms/step - loss: 0.9498 - acc: 0.6817 - val_loss: 1.4616 - val_acc: 0.5038\n",
            "\n",
            "Epoch 00043: val_acc did not improve from 0.51500\n",
            "Epoch 44/50\n",
            "6394/6394 [==============================] - 36s 6ms/step - loss: 0.9393 - acc: 0.6858 - val_loss: 1.5136 - val_acc: 0.5038\n",
            "\n",
            "Epoch 00044: val_acc did not improve from 0.51500\n",
            "Epoch 45/50\n",
            "6394/6394 [==============================] - 37s 6ms/step - loss: 0.9344 - acc: 0.6860 - val_loss: 1.5026 - val_acc: 0.4938\n",
            "\n",
            "Epoch 00045: val_acc did not improve from 0.51500\n",
            "Epoch 46/50\n",
            "6394/6394 [==============================] - 36s 6ms/step - loss: 0.9261 - acc: 0.6941 - val_loss: 1.5606 - val_acc: 0.4888\n",
            "\n",
            "Epoch 00046: val_acc did not improve from 0.51500\n",
            "Epoch 47/50\n",
            "6394/6394 [==============================] - 36s 6ms/step - loss: 0.9235 - acc: 0.6897 - val_loss: 1.4736 - val_acc: 0.5138\n",
            "\n",
            "Epoch 00047: val_acc did not improve from 0.51500\n",
            "\n",
            "Epoch 00047: ReduceLROnPlateau reducing learning rate to 6.25000029685907e-05.\n",
            "Epoch 48/50\n",
            "6394/6394 [==============================] - 37s 6ms/step - loss: 0.8979 - acc: 0.7039 - val_loss: 1.4581 - val_acc: 0.5175\n",
            "\n",
            "Epoch 00048: val_acc improved from 0.51500 to 0.51750, saving model to weights.best.h5\n",
            "Epoch 49/50\n",
            "6394/6394 [==============================] - 36s 6ms/step - loss: 0.8937 - acc: 0.7050 - val_loss: 1.4579 - val_acc: 0.5212\n",
            "\n",
            "Epoch 00049: val_acc improved from 0.51750 to 0.52125, saving model to weights.best.h5\n",
            "Epoch 50/50\n",
            "6394/6394 [==============================] - 36s 6ms/step - loss: 0.8911 - acc: 0.7071 - val_loss: 1.5020 - val_acc: 0.4988\n",
            "\n",
            "Epoch 00050: val_acc did not improve from 0.52125\n"
          ],
          "name": "stdout"
        }
      ]
    },
    {
      "cell_type": "code",
      "metadata": {
        "id": "aIMJcWA4u-IH",
        "colab_type": "code",
        "outputId": "5a1d5a9f-6909-4e69-bfff-5cf35e6c84a1",
        "colab": {
          "base_uri": "https://localhost:8080/",
          "height": 590
        }
      },
      "source": [
        "show_summary_stats(history)"
      ],
      "execution_count": 0,
      "outputs": [
        {
          "output_type": "stream",
          "text": [
            "dict_keys(['val_loss', 'val_acc', 'loss', 'acc', 'lr'])\n"
          ],
          "name": "stdout"
        },
        {
          "output_type": "display_data",
          "data": {
            "image/png": "[encoded data removed]",
            "text/plain": [
              "<Figure size 432x288 with 1 Axes>"
            ]
          },
          "metadata": {
            "tags": []
          }
        },
        {
          "output_type": "display_data",
          "data": {
            "image/png": "[encoded data removed]",
            "text/plain": [
              "<Figure size 432x288 with 1 Axes>"
            ]
          },
          "metadata": {
            "tags": []
          }
        }
      ]
    },
    {
      "cell_type": "code",
      "metadata": {
        "id": "U9bUdauTq5Qs",
        "colab_type": "code",
        "outputId": "3acb52f3-ac4f-4c14-e013-2994e83aca50",
        "colab": {
          "base_uri": "https://localhost:8080/",
          "height": 294
        }
      },
      "source": [
        "y_true = np.argmax(y_valid, axis = 1)\n",
        "X_valid = np.expand_dims(X_valid, axis = -1)\n",
        "y_pred = model.predict(X_valid)\n",
        "y_pred = np.argmax(y_pred, axis=1)\n",
        "labels = [0,1,2,3,4,5,6,7]\n",
        "target_names = dict_genres.keys()\n",
        "\n",
        "print(y_true.shape, y_pred.shape)\n",
        "print(classification_report(y_true, y_pred, target_names=target_names))"
      ],
      "execution_count": 0,
      "outputs": [
        {
          "output_type": "stream",
          "text": [
            "(800,) (800,)\n",
            "               precision    recall  f1-score   support\n",
            "\n",
            "   Electronic       0.46      0.48      0.47       100\n",
            " Experimental       0.51      0.49      0.50       100\n",
            "         Folk       0.57      0.74      0.64       100\n",
            "      Hip-Hop       0.54      0.54      0.54       100\n",
            " Instrumental       0.49      0.48      0.49       100\n",
            "International       0.76      0.45      0.57       100\n",
            "          Pop       0.14      0.17      0.15       100\n",
            "         Rock       0.62      0.55      0.58       100\n",
            "\n",
            "     accuracy                           0.49       800\n",
            "    macro avg       0.51      0.49      0.49       800\n",
            " weighted avg       0.51      0.49      0.49       800\n",
            "\n"
          ],
          "name": "stdout"
        }
      ]
    },
    {
      "cell_type": "code",
      "metadata": {
        "id": "POyUKe4tOFIw",
        "colab_type": "code",
        "outputId": "d00f26d8-6596-4f03-8967-10060f0adc0b",
        "colab": {
          "base_uri": "https://localhost:8080/",
          "height": 34
        }
      },
      "source": [
        "print(accuracy_score(y_true, y_pred))"
      ],
      "execution_count": 0,
      "outputs": [
        {
          "output_type": "stream",
          "text": [
            "0.4875\n"
          ],
          "name": "stdout"
        }
      ]
    },
    {
      "cell_type": "markdown",
      "metadata": {
        "id": "f-e48r0ZOsgu",
        "colab_type": "text"
      },
      "source": [
        "## Evaluating the CNN-RNN Model on the Test Dataset"
      ]
    },
    {
      "cell_type": "code",
      "metadata": {
        "id": "Y4flhIKVOQvD",
        "colab_type": "code",
        "outputId": "36b257af-edd4-44ed-aeaf-f7974825cee5",
        "colab": {
          "base_uri": "https://localhost:8080/",
          "height": 51
        }
      },
      "source": [
        "npzfile = np.load('test_arr.npz')\n",
        "print(npzfile.files)\n",
        "X_test = npzfile['arr_0']\n",
        "y_test = npzfile['arr_1']\n",
        "print(X_test.shape, y_test.shape)"
      ],
      "execution_count": 0,
      "outputs": [
        {
          "output_type": "stream",
          "text": [
            "['arr_0', 'arr_1']\n",
            "(800, 640, 128) (800,)\n"
          ],
          "name": "stdout"
        }
      ]
    },
    {
      "cell_type": "code",
      "metadata": {
        "id": "d6JuYlsmO0iv",
        "colab_type": "code",
        "colab": {}
      },
      "source": [
        "# getting the stored weight values\n",
        "weights_path = 'weights.best.h5'\n",
        "model = load_model(weights_path)"
      ],
      "execution_count": 0,
      "outputs": []
    },
    {
      "cell_type": "code",
      "metadata": {
        "id": "ngLqkXJmO_Jb",
        "colab_type": "code",
        "outputId": "bab9bce6-840c-4cb4-9206-5270f570dd8c",
        "colab": {
          "base_uri": "https://localhost:8080/",
          "height": 34
        }
      },
      "source": [
        "y_test -= 1\n",
        "print(np.amin(y_test), np.amax(y_test), np.mean(y_test))"
      ],
      "execution_count": 0,
      "outputs": [
        {
          "output_type": "stream",
          "text": [
            "0 7 3.5\n"
          ],
          "name": "stdout"
        }
      ]
    },
    {
      "cell_type": "code",
      "metadata": {
        "id": "YYDMPDTtPD8a",
        "colab_type": "code",
        "outputId": "850dd614-dc7f-4c69-d977-7fd8ab5e0765",
        "colab": {
          "base_uri": "https://localhost:8080/",
          "height": 34
        }
      },
      "source": [
        "X_test_raw = librosa.core.db_to_power(X_test, ref=1.0)\n",
        "print(np.amin(X_test_raw), np.amax(X_test_raw), np.mean(X_test_raw))"
      ],
      "execution_count": 0,
      "outputs": [
        {
          "output_type": "stream",
          "text": [
            "1e-08 1.0 0.004623813486211768\n"
          ],
          "name": "stdout"
        }
      ]
    },
    {
      "cell_type": "code",
      "metadata": {
        "id": "aR0ssvnNPH8b",
        "colab_type": "code",
        "outputId": "f09ed3f3-71e8-40c6-97a2-11b4245bbf12",
        "colab": {
          "base_uri": "https://localhost:8080/",
          "height": 294
        }
      },
      "source": [
        "X_test = np.log(X_test_raw)\n",
        "y_true = y_test\n",
        "X_test = np.expand_dims(X_test, axis = -1)\n",
        "y_pred = model.predict(X_test)\n",
        "y_pred = np.argmax(y_pred, axis=1)\n",
        "labels = [0,1,2,3,4,5,6,7]\n",
        "target_names = dict_genres.keys()\n",
        "\n",
        "print(y_true.shape, y_pred.shape)\n",
        "print(classification_report(y_true, y_pred, target_names=target_names))"
      ],
      "execution_count": 0,
      "outputs": [
        {
          "output_type": "stream",
          "text": [
            "(800,) (800,)\n",
            "               precision    recall  f1-score   support\n",
            "\n",
            "   Electronic       0.68      0.34      0.45       100\n",
            " Experimental       0.25      0.31      0.28       100\n",
            "         Folk       0.25      0.28      0.26       100\n",
            "      Hip-Hop       0.50      0.87      0.63       100\n",
            " Instrumental       0.46      0.39      0.42       100\n",
            "International       0.49      0.33      0.39       100\n",
            "          Pop       0.33      0.30      0.32       100\n",
            "         Rock       0.57      0.55      0.56       100\n",
            "\n",
            "     accuracy                           0.42       800\n",
            "    macro avg       0.44      0.42      0.41       800\n",
            " weighted avg       0.44      0.42      0.41       800\n",
            "\n"
          ],
          "name": "stdout"
        }
      ]
    },
    {
      "cell_type": "code",
      "metadata": {
        "id": "1lMnUUaCPUeD",
        "colab_type": "code",
        "outputId": "f7184439-a96a-4d38-94f4-c6bce088eb50",
        "colab": {
          "base_uri": "https://localhost:8080/",
          "height": 336
        }
      },
      "source": [
        "# Heat Map\n",
        "mat = confusion_matrix(y_true, y_pred)\n",
        "sns.heatmap(mat.T, square=True, annot=True, fmt='d', cbar=False,\n",
        "            xticklabels=dict_genres.keys(),\n",
        "            yticklabels=dict_genres.keys())\n",
        "plt.xlabel('true label')\n",
        "plt.ylabel('predicted label');"
      ],
      "execution_count": 0,
      "outputs": [
        {
          "output_type": "display_data",
          "data": {
            "image/png": "[encoded data removed]",
            "text/plain": [
              "<Figure size 432x288 with 1 Axes>"
            ]
          },
          "metadata": {
            "tags": []
          }
        }
      ]
    },
    {
      "cell_type": "code",
      "metadata": {
        "id": "Q99w-HZgPVfR",
        "colab_type": "code",
        "outputId": "9c670f93-641f-4518-8aa0-7d5aba65f27f",
        "colab": {
          "base_uri": "https://localhost:8080/",
          "height": 34
        }
      },
      "source": [
        "# Testing Accuracy\n",
        "print(accuracy_score(y_true, y_pred))"
      ],
      "execution_count": 0,
      "outputs": [
        {
          "output_type": "stream",
          "text": [
            "0.42125\n"
          ],
          "name": "stdout"
        }
      ]
    }
  ]
}